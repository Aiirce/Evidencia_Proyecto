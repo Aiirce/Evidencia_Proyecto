{
  "nbformat": 4,
  "nbformat_minor": 0,
  "metadata": {
    "colab": {
      "provenance": [],
      "include_colab_link": true
    },
    "kernelspec": {
      "name": "python3",
      "display_name": "Python 3"
    },
    "language_info": {
      "name": "python"
    }
  },
  "cells": [
    {
      "cell_type": "markdown",
      "metadata": {
        "id": "view-in-github",
        "colab_type": "text"
      },
      "source": [
        "<a href=\"https://colab.research.google.com/github/Aiirce/Evidencia_Proyecto/blob/Code/FinalCode.ipynb\" target=\"_parent\"><img src=\"https://colab.research.google.com/assets/colab-badge.svg\" alt=\"Open In Colab\"/></a>"
      ]
    },
    {
      "cell_type": "markdown",
      "source": [],
      "metadata": {
        "id": "uoBTQ6w8tRw4"
      }
    },
    {
      "cell_type": "markdown",
      "source": [
        "***Prerequisito***"
      ],
      "metadata": {
        "id": "qWWCcUiWF_n_"
      }
    },
    {
      "cell_type": "code",
      "source": [
        "!pip install easyocr #Installs a library that helps us read the image by converting it to text."
      ],
      "metadata": {
        "colab": {
          "base_uri": "https://localhost:8080/"
        },
        "id": "hWBfTXRTACwE",
        "outputId": "2d3c1943-6994-4095-a1c2-ca069439adb7"
      },
      "execution_count": null,
      "outputs": [
        {
          "output_type": "stream",
          "name": "stdout",
          "text": [
            "Collecting easyocr\n",
            "  Downloading easyocr-1.7.2-py3-none-any.whl.metadata (10 kB)\n",
            "Requirement already satisfied: torch in /usr/local/lib/python3.12/dist-packages (from easyocr) (2.8.0+cu126)\n",
            "Requirement already satisfied: torchvision>=0.5 in /usr/local/lib/python3.12/dist-packages (from easyocr) (0.23.0+cu126)\n",
            "Requirement already satisfied: opencv-python-headless in /usr/local/lib/python3.12/dist-packages (from easyocr) (4.12.0.88)\n",
            "Requirement already satisfied: scipy in /usr/local/lib/python3.12/dist-packages (from easyocr) (1.16.3)\n",
            "Requirement already satisfied: numpy in /usr/local/lib/python3.12/dist-packages (from easyocr) (2.0.2)\n",
            "Requirement already satisfied: Pillow in /usr/local/lib/python3.12/dist-packages (from easyocr) (11.3.0)\n",
            "Requirement already satisfied: scikit-image in /usr/local/lib/python3.12/dist-packages (from easyocr) (0.25.2)\n",
            "Collecting python-bidi (from easyocr)\n",
            "  Downloading python_bidi-0.6.7-cp312-cp312-manylinux_2_17_x86_64.manylinux2014_x86_64.whl.metadata (4.9 kB)\n",
            "Requirement already satisfied: PyYAML in /usr/local/lib/python3.12/dist-packages (from easyocr) (6.0.3)\n",
            "Requirement already satisfied: Shapely in /usr/local/lib/python3.12/dist-packages (from easyocr) (2.1.2)\n",
            "Collecting pyclipper (from easyocr)\n",
            "  Downloading pyclipper-1.3.0.post6-cp312-cp312-manylinux_2_17_x86_64.manylinux2014_x86_64.whl.metadata (9.0 kB)\n",
            "Collecting ninja (from easyocr)\n",
            "  Downloading ninja-1.13.0-py3-none-manylinux2014_x86_64.manylinux_2_17_x86_64.whl.metadata (5.1 kB)\n",
            "Requirement already satisfied: filelock in /usr/local/lib/python3.12/dist-packages (from torch->easyocr) (3.20.0)\n",
            "Requirement already satisfied: typing-extensions>=4.10.0 in /usr/local/lib/python3.12/dist-packages (from torch->easyocr) (4.15.0)\n",
            "Requirement already satisfied: setuptools in /usr/local/lib/python3.12/dist-packages (from torch->easyocr) (75.2.0)\n",
            "Requirement already satisfied: sympy>=1.13.3 in /usr/local/lib/python3.12/dist-packages (from torch->easyocr) (1.13.3)\n",
            "Requirement already satisfied: networkx in /usr/local/lib/python3.12/dist-packages (from torch->easyocr) (3.5)\n",
            "Requirement already satisfied: jinja2 in /usr/local/lib/python3.12/dist-packages (from torch->easyocr) (3.1.6)\n",
            "Requirement already satisfied: fsspec in /usr/local/lib/python3.12/dist-packages (from torch->easyocr) (2025.3.0)\n",
            "Requirement already satisfied: nvidia-cuda-nvrtc-cu12==12.6.77 in /usr/local/lib/python3.12/dist-packages (from torch->easyocr) (12.6.77)\n",
            "Requirement already satisfied: nvidia-cuda-runtime-cu12==12.6.77 in /usr/local/lib/python3.12/dist-packages (from torch->easyocr) (12.6.77)\n",
            "Requirement already satisfied: nvidia-cuda-cupti-cu12==12.6.80 in /usr/local/lib/python3.12/dist-packages (from torch->easyocr) (12.6.80)\n",
            "Requirement already satisfied: nvidia-cudnn-cu12==9.10.2.21 in /usr/local/lib/python3.12/dist-packages (from torch->easyocr) (9.10.2.21)\n",
            "Requirement already satisfied: nvidia-cublas-cu12==12.6.4.1 in /usr/local/lib/python3.12/dist-packages (from torch->easyocr) (12.6.4.1)\n",
            "Requirement already satisfied: nvidia-cufft-cu12==11.3.0.4 in /usr/local/lib/python3.12/dist-packages (from torch->easyocr) (11.3.0.4)\n",
            "Requirement already satisfied: nvidia-curand-cu12==10.3.7.77 in /usr/local/lib/python3.12/dist-packages (from torch->easyocr) (10.3.7.77)\n",
            "Requirement already satisfied: nvidia-cusolver-cu12==11.7.1.2 in /usr/local/lib/python3.12/dist-packages (from torch->easyocr) (11.7.1.2)\n",
            "Requirement already satisfied: nvidia-cusparse-cu12==12.5.4.2 in /usr/local/lib/python3.12/dist-packages (from torch->easyocr) (12.5.4.2)\n",
            "Requirement already satisfied: nvidia-cusparselt-cu12==0.7.1 in /usr/local/lib/python3.12/dist-packages (from torch->easyocr) (0.7.1)\n",
            "Requirement already satisfied: nvidia-nccl-cu12==2.27.3 in /usr/local/lib/python3.12/dist-packages (from torch->easyocr) (2.27.3)\n",
            "Requirement already satisfied: nvidia-nvtx-cu12==12.6.77 in /usr/local/lib/python3.12/dist-packages (from torch->easyocr) (12.6.77)\n",
            "Requirement already satisfied: nvidia-nvjitlink-cu12==12.6.85 in /usr/local/lib/python3.12/dist-packages (from torch->easyocr) (12.6.85)\n",
            "Requirement already satisfied: nvidia-cufile-cu12==1.11.1.6 in /usr/local/lib/python3.12/dist-packages (from torch->easyocr) (1.11.1.6)\n",
            "Requirement already satisfied: triton==3.4.0 in /usr/local/lib/python3.12/dist-packages (from torch->easyocr) (3.4.0)\n",
            "Requirement already satisfied: imageio!=2.35.0,>=2.33 in /usr/local/lib/python3.12/dist-packages (from scikit-image->easyocr) (2.37.0)\n",
            "Requirement already satisfied: tifffile>=2022.8.12 in /usr/local/lib/python3.12/dist-packages (from scikit-image->easyocr) (2025.10.16)\n",
            "Requirement already satisfied: packaging>=21 in /usr/local/lib/python3.12/dist-packages (from scikit-image->easyocr) (25.0)\n",
            "Requirement already satisfied: lazy-loader>=0.4 in /usr/local/lib/python3.12/dist-packages (from scikit-image->easyocr) (0.4)\n",
            "Requirement already satisfied: mpmath<1.4,>=1.1.0 in /usr/local/lib/python3.12/dist-packages (from sympy>=1.13.3->torch->easyocr) (1.3.0)\n",
            "Requirement already satisfied: MarkupSafe>=2.0 in /usr/local/lib/python3.12/dist-packages (from jinja2->torch->easyocr) (3.0.3)\n",
            "Downloading easyocr-1.7.2-py3-none-any.whl (2.9 MB)\n",
            "\u001b[2K   \u001b[90m━━━━━━━━━━━━━━━━━━━━━━━━━━━━━━━━━━━━━━━━\u001b[0m \u001b[32m2.9/2.9 MB\u001b[0m \u001b[31m88.4 MB/s\u001b[0m eta \u001b[36m0:00:00\u001b[0m\n",
            "\u001b[?25hDownloading ninja-1.13.0-py3-none-manylinux2014_x86_64.manylinux_2_17_x86_64.whl (180 kB)\n",
            "\u001b[2K   \u001b[90m━━━━━━━━━━━━━━━━━━━━━━━━━━━━━━━━━━━━━━━━\u001b[0m \u001b[32m180.7/180.7 kB\u001b[0m \u001b[31m19.7 MB/s\u001b[0m eta \u001b[36m0:00:00\u001b[0m\n",
            "\u001b[?25hDownloading pyclipper-1.3.0.post6-cp312-cp312-manylinux_2_17_x86_64.manylinux2014_x86_64.whl (963 kB)\n",
            "\u001b[2K   \u001b[90m━━━━━━━━━━━━━━━━━━━━━━━━━━━━━━━━━━━━━━━━\u001b[0m \u001b[32m963.8/963.8 kB\u001b[0m \u001b[31m62.1 MB/s\u001b[0m eta \u001b[36m0:00:00\u001b[0m\n",
            "\u001b[?25hDownloading python_bidi-0.6.7-cp312-cp312-manylinux_2_17_x86_64.manylinux2014_x86_64.whl (300 kB)\n",
            "\u001b[2K   \u001b[90m━━━━━━━━━━━━━━━━━━━━━━━━━━━━━━━━━━━━━━━━\u001b[0m \u001b[32m300.6/300.6 kB\u001b[0m \u001b[31m29.6 MB/s\u001b[0m eta \u001b[36m0:00:00\u001b[0m\n",
            "\u001b[?25hInstalling collected packages: python-bidi, pyclipper, ninja, easyocr\n",
            "Successfully installed easyocr-1.7.2 ninja-1.13.0 pyclipper-1.3.0.post6 python-bidi-0.6.7\n"
          ]
        }
      ]
    },
    {
      "cell_type": "code",
      "source": [],
      "metadata": {
        "id": "TBxKGY29NgS-"
      },
      "execution_count": null,
      "outputs": []
    },
    {
      "cell_type": "markdown",
      "source": [
        "***Helper***"
      ],
      "metadata": {
        "id": "QndxX5dOGDcH"
      }
    },
    {
      "cell_type": "code",
      "source": [
        "# Purpose. It extracts all the strings from a nested\n",
        "# list and proceeds to join them together with spaces\n",
        "# while returning them into a specified format.\n",
        "\n",
        "def process_entities(data): #starts the function taking data as input\n",
        "\n",
        "    strings = [] #creates the list where extracted strings will reside\n",
        "\n",
        "    # Recursive function to dig through nested lists/tuples\n",
        "    def extract_strings(item): #Defines a nested function that recursively(by repetition) searches for strings\n",
        "    #Recursion means that a function calls itself, in this case useful to explore structures of unknown depth.\n",
        "        if isinstance(item, (list, tuple)): #Checks if the \"item\" is a list or tuple, thus returnign true if it is.\n",
        "            for subitem in item: #if it is a list or tuple, then it loops through each element.\n",
        "            # Ex there could be up to 100 lists (each list a subitem) inside a list (item) and we search through the contents from the subitem.\n",
        "                extract_strings(subitem) #It is called again\n",
        "        elif isinstance(item, str): # Here it checks if the data is string within the list.\n",
        "            strings.append(item) # If the data found within the list is a string then we append it to the list.\n",
        "\n",
        "    # Start recursion\n",
        "    extract_strings(data) #Here the recursion is called, it goes through every level of list/tuples\n",
        "    # until all strings are found.\n",
        "\n",
        "    # Combine all strings into one entity name\n",
        "    name = \" \".join(strings).strip() #We create a variable \"name\" which joins the strings with a space between them\n",
        "    #and lastly, the strip serves to clean up the data from spaces at the start or at the end.\n",
        "\n",
        "    # Return in the expected format\n",
        "    return [{'name': name}] if name else [] #If name is not empty then it returns a list and dictionary.\n",
        "\n",
        "def get_entity_info(entity_name): #Calls the function to assign the map with its correct information.\n",
        "    info_dict = { #Creates a set/dictionary, an unordered collection of unique elements\n",
        "        \"ROYAL PALACE\": \"Frontline/Tank: Peni Parker and Doctor Strange also being strong for setting up key portals. \\n               Damage:  Wolverine \\n               Support/Control: Loki, Luna, or Rocket. Constant healing and teamups with Peni Parker\",\n",
        "        \"HELLS HEAVEN\": \"Frontline/Tank: Magneto, Thor, or Doctor Strange \\n               Damage: Black Panther, Punisher, or Hawkeye \\n               Support/Control: Mantis, Luna, or Loki\",\n",
        "        \"MIDTOWN\": \"Frontline/Tank: Magneto, Doctor Strange, or Emma Frost \\n               Damage: Iron Man, Moon knight, or Mister Fantastic \\n               Support/Control: Jeff, Luna, or Loki\",\n",
        "        \"HEART OF HEAVEN\": \"Frontline/Tank: Groot, and Captain America \\n               Damage: Hela, Hawkeye, or Moonknight \\n               Support/Control: Jeff, Luna, or Invisible Woman\",\n",
        "        \"PATH YGGDRASILL\": \"Frontline/Tank: Groot, and Magneto \\n                Damage: Hela, Punisher, or Moonknight \\n               Support/Control: Rocket Racoon, Luna, or Invisible Woman\",\n",
        "        \"SPIDER- ISLANDS\": \"Frontline/Tank: Groot, and Peni Parker for bottlenecks \\n                  Damage: Hela, Black Panther, or Moonknight \\n                  Support/Control: Rocket Racoon, Luna, or Invisible Woman\"\n",
        "\n",
        "    }\n",
        "    return info_dict.get(entity_name.upper(), \"Unknown entity\") #Returns the information stored in the dictionary\n",
        "\n",
        "\n",
        "\n",
        "\n",
        "\n"
      ],
      "metadata": {
        "id": "l6EyouGpGKLL"
      },
      "execution_count": null,
      "outputs": []
    },
    {
      "cell_type": "code",
      "source": [
        "# --- MAIN EXECUTION ---\n",
        "entities = process_entities(lit_result) #Calls the function to find effectively the name of the map\n",
        "#Returning a list of dictionaries for us to classify later.\n",
        "print(entities) #We validate the name of the map\n",
        "\n",
        "for e in entities: # A loop that iterates through each element of the entire entities list\n",
        "#The code can extract each value from the dictionary individually. Each element e is part of the dictionary.\n",
        "    print(f\"{e['name']} → {get_entity_info(e['name'])}\") # e[name], e is one element from the entities list\n",
        "    #In the return from process_entities we stored the map under the key 'name'.\n",
        "    #Basically name is our key and opens the door to find the map\n",
        "    #Next we call the function get_entity_info with the argument being the map.\n",
        "    #The f... helps us to print with format, combining static text with dynamic variables\n",
        "\n",
        "# Use the cleaned entities\n"
      ],
      "metadata": {
        "colab": {
          "base_uri": "https://localhost:8080/"
        },
        "id": "ve9JMLzIJ2CD",
        "outputId": "6c1a991f-f69a-4bd7-9f40-cc2c15c4d589"
      },
      "execution_count": null,
      "outputs": [
        {
          "output_type": "stream",
          "name": "stdout",
          "text": [
            "[{'name': 'ROYAL PALACE'}]\n",
            "ROYAL PALACE → Frontline/Tank: Peni Parker and Doctor Strange also being strong for setting up key portals. \n",
            "               Damage:  Wolverine \n",
            "               Support/Control: Loki, Luna, or Rocket. Constant healing and teamups with Peni Parker\n"
          ]
        }
      ]
    },
    {
      "cell_type": "markdown",
      "source": [
        "***Helper ENDS HERE***\n"
      ],
      "metadata": {
        "id": "Y8Oue-iNXND2"
      }
    },
    {
      "cell_type": "markdown",
      "source": [
        "***Royal palace***"
      ],
      "metadata": {
        "id": "aHgmTr2b_Aqv"
      }
    },
    {
      "cell_type": "code",
      "source": [
        "import easyocr #Reads and process images\n",
        "import cv2 # OpenCV for image processing\n",
        "import matplotlib.pyplot as plt # Used to display images and tables\n",
        "import numpy as np #Habdles arrays and matrices (images are 3D arrays of pixels)\n",
        "\n",
        "map = cv2.imread(\"RoyalPalace.jpeg\") #Reads file using OpenCV and loads the image into map.\n",
        "map_rgb=cv2.cvtColor(map, cv2.COLOR_BGR2RGB) # Converts image from BGR to RGB (Red, Green, Blue) as Matplotlib expects RGB\n",
        "\n",
        "kernel1 = np.ones((3,3), np.uint8)# 3x3 matrix of ones of 8 bits (used for image dilation/Expanding white areas)\n",
        "lower_white = np.array([232,232,232], dtype=np.uint8) #Defines white shades to detect in the image\n",
        "upper_white = np.array([255,255,255], dtype=np.uint8) # In this case useful for shades of grey or faded white.\n",
        "\n",
        "mask1 = cv2.inRange(map_rgb, lower_white, upper_white) #Creates a binary mask (black and white) where the pixel\n",
        "#colour is between lower white and upper white. Isolating the white parts of the map.\n",
        "\n",
        "white_map = cv2.bitwise_and(map_rgb, map_rgb, mask=mask1) #Combines the original image (in RGB) with the mask\n",
        "# using bitwise AND operation. Now we only see where the white parts are visible\n",
        "dilated_map = cv2.dilate(white_map, kernel1, 1) #Expands white regions using kernel. The number (1 in this case) is\n",
        "#the amount of times we apply the expansion. Connects/fills gap of separated words.\n",
        "\n",
        "height, width, _ = map_rgb.shape # gets the dimension of the image\n",
        "img1 = np.zeros((height, width),dtype=np.uint8) #img1 creates a black image comprised of zeroes with the\n",
        "# same size as the original image\n",
        "cv2.rectangle(img1, (600,250), (1100,500), 255,-1) #Draws a white rectangle on the black image from a certain lenght and width.\n",
        "masked_map = cv2.bitwise_and(dilated_map, dilated_map, mask=img1) #Applies the rectangular mask on the dilated_map\n",
        "#Only keeps pixels inside that rectangle and the rest is black.\n",
        "\n",
        "reader = easyocr.Reader(['en']) #Creates an EasyOCR reader object that regonises text in english.\n",
        "lit_result = reader.readtext(masked_map) #Passes the processed image to EasyOCR to read it.\n",
        "print(lit_result)\n",
        "\n",
        "plt.imshow(masked_map)\n",
        "plt.axis(\"off\")"
      ],
      "metadata": {
        "colab": {
          "base_uri": "https://localhost:8080/",
          "height": 387
        },
        "id": "urI6bstS-osj",
        "outputId": "38349330-f47c-4fc4-e98b-61edd21d441e"
      },
      "execution_count": null,
      "outputs": [
        {
          "output_type": "stream",
          "name": "stderr",
          "text": [
            "WARNING:easyocr.easyocr:Neither CUDA nor MPS are available - defaulting to CPU. Note: This module is much faster with a GPU.\n"
          ]
        },
        {
          "output_type": "stream",
          "name": "stdout",
          "text": [
            "[([[np.int32(679), np.int32(315)], [np.int32(929), np.int32(315)], [np.int32(929), np.int32(407)], [np.int32(679), np.int32(407)]], 'ROYAL', np.float64(0.9885294856787553)), ([[np.int32(660), np.int32(415)], [np.int32(954), np.int32(415)], [np.int32(954), np.int32(507)], [np.int32(660), np.int32(507)]], 'PALACE', np.float64(0.9924243629652436))]\n"
          ]
        },
        {
          "output_type": "execute_result",
          "data": {
            "text/plain": [
              "(np.float64(-0.5), np.float64(1599.5), np.float64(898.5), np.float64(-0.5))"
            ]
          },
          "metadata": {},
          "execution_count": 73
        },
        {
          "output_type": "display_data",
          "data": {
            "text/plain": [
              "<Figure size 640x480 with 1 Axes>"
            ],
            "image/png": "[encoded data removed]"
          },
          "metadata": {}
        }
      ]
    },
    {
      "cell_type": "markdown",
      "source": [
        "***MIDTOWN***"
      ],
      "metadata": {
        "id": "u4RqL7n8-7FZ"
      }
    },
    {
      "cell_type": "code",
      "execution_count": null,
      "metadata": {
        "id": "aQjZu3Bv0wfo"
      },
      "outputs": [],
      "source": [
        "import easyocr\n",
        "import cv2\n",
        "import matplotlib.pyplot as plt\n",
        "import numpy as np\n",
        "\n",
        "\n",
        "map = cv2.imread(\"Midtown.jpeg\")\n",
        "\n",
        "map_rgb=cv2.cvtColor(map, cv2.COLOR_BGR2RGB)\n",
        "\n",
        "kernel1 = np.ones((3,3), np.uint8)#5\n",
        "lower_white = np.array([231,231,231], dtype=np.uint8)\n",
        "upper_white = np.array([255,255,255], dtype=np.uint8)\n",
        "\n",
        "mask1 = cv2.inRange(map_rgb, lower_white, upper_white)\n",
        "\n",
        "white_map = cv2.bitwise_and(map_rgb, map_rgb, mask=mask1)\n",
        "dilated_map = cv2.dilate(white_map, kernel1, 1)\n",
        "\n",
        "height, width, _ = map_rgb.shape\n",
        "img1 = np.zeros((height, width),dtype=np.uint8)\n",
        "cv2.rectangle(img1, (600,250), (1100,500), 255,-1)\n",
        "masked_map = cv2.bitwise_and(dilated_map, dilated_map, mask=img1)\n",
        "\n",
        "reader = easyocr.Reader(['en'])\n",
        "lit_result = reader.readtext(masked_map)\n",
        "print(lit_result)\n",
        "\n",
        "plt.imshow(masked_map)\n",
        "plt.axis(\"off\")"
      ]
    },
    {
      "cell_type": "markdown",
      "source": [
        "***Heart of Heaven***"
      ],
      "metadata": {
        "id": "7csGzbsR_DzA"
      }
    },
    {
      "cell_type": "code",
      "source": [
        "import easyocr\n",
        "import cv2\n",
        "import matplotlib.pyplot as plt\n",
        "import numpy as np\n",
        "\n",
        "map = cv2.imread(\"Heart_of_heaven.jpeg\")\n",
        "\n",
        "map_rgb=cv2.cvtColor(map, cv2.COLOR_BGR2RGB)\n",
        "\n",
        "kernel1 = np.ones((3,3), np.uint8)#5\n",
        "lower_white = np.array([245,250,245], dtype=np.uint8)\n",
        "upper_white = np.array([255,255,255], dtype=np.uint8)\n",
        "\n",
        "mask1 = cv2.inRange(map_rgb, lower_white, upper_white)\n",
        "\n",
        "white_map = cv2.bitwise_and(map_rgb, map_rgb, mask=mask1)\n",
        "dilated_map = cv2.dilate(white_map, kernel1, 1)\n",
        "\n",
        "height, width, _ = map_rgb.shape\n",
        "img1 = np.zeros((height, width),dtype=np.uint8)\n",
        "cv2.rectangle(img1, (500,250), (1100,450), 255,-1)\n",
        "masked_map = cv2.bitwise_and(dilated_map, dilated_map, mask=img1)\n",
        "\n",
        "reader = easyocr.Reader(['en'])\n",
        "lit_result = reader.readtext(masked_map)\n",
        "print(lit_result)\n",
        "\n",
        "plt.imshow(masked_map)\n",
        "plt.axis(\"off\")"
      ],
      "metadata": {
        "id": "UjBmiCWC_J2-",
        "colab": {
          "base_uri": "https://localhost:8080/",
          "height": 211
        },
        "outputId": "34059cfe-8aac-4bbb-c82f-db13005ef487"
      },
      "execution_count": null,
      "outputs": [
        {
          "output_type": "error",
          "ename": "error",
          "evalue": "OpenCV(4.12.0) /io/opencv/modules/imgproc/src/color.cpp:199: error: (-215:Assertion failed) !_src.empty() in function 'cvtColor'\n",
          "traceback": [
            "\u001b[0;31m---------------------------------------------------------------------------\u001b[0m",
            "\u001b[0;31merror\u001b[0m                                     Traceback (most recent call last)",
            "\u001b[0;32m/tmp/ipython-input-125602389.py\u001b[0m in \u001b[0;36m<cell line: 0>\u001b[0;34m()\u001b[0m\n\u001b[1;32m      6\u001b[0m \u001b[0mmap\u001b[0m \u001b[0;34m=\u001b[0m \u001b[0mcv2\u001b[0m\u001b[0;34m.\u001b[0m\u001b[0mimread\u001b[0m\u001b[0;34m(\u001b[0m\u001b[0;34m\"Heart_of_heaven.jpeg\"\u001b[0m\u001b[0;34m)\u001b[0m\u001b[0;34m\u001b[0m\u001b[0;34m\u001b[0m\u001b[0m\n\u001b[1;32m      7\u001b[0m \u001b[0;34m\u001b[0m\u001b[0m\n\u001b[0;32m----> 8\u001b[0;31m \u001b[0mmap_rgb\u001b[0m\u001b[0;34m=\u001b[0m\u001b[0mcv2\u001b[0m\u001b[0;34m.\u001b[0m\u001b[0mcvtColor\u001b[0m\u001b[0;34m(\u001b[0m\u001b[0mmap\u001b[0m\u001b[0;34m,\u001b[0m \u001b[0mcv2\u001b[0m\u001b[0;34m.\u001b[0m\u001b[0mCOLOR_BGR2RGB\u001b[0m\u001b[0;34m)\u001b[0m\u001b[0;34m\u001b[0m\u001b[0;34m\u001b[0m\u001b[0m\n\u001b[0m\u001b[1;32m      9\u001b[0m \u001b[0;34m\u001b[0m\u001b[0m\n\u001b[1;32m     10\u001b[0m \u001b[0mkernel1\u001b[0m \u001b[0;34m=\u001b[0m \u001b[0mnp\u001b[0m\u001b[0;34m.\u001b[0m\u001b[0mones\u001b[0m\u001b[0;34m(\u001b[0m\u001b[0;34m(\u001b[0m\u001b[0;36m3\u001b[0m\u001b[0;34m,\u001b[0m\u001b[0;36m3\u001b[0m\u001b[0;34m)\u001b[0m\u001b[0;34m,\u001b[0m \u001b[0mnp\u001b[0m\u001b[0;34m.\u001b[0m\u001b[0muint8\u001b[0m\u001b[0;34m)\u001b[0m\u001b[0;31m#5\u001b[0m\u001b[0;34m\u001b[0m\u001b[0;34m\u001b[0m\u001b[0m\n",
            "\u001b[0;31merror\u001b[0m: OpenCV(4.12.0) /io/opencv/modules/imgproc/src/color.cpp:199: error: (-215:Assertion failed) !_src.empty() in function 'cvtColor'\n"
          ]
        }
      ]
    },
    {
      "cell_type": "markdown",
      "source": [
        "***Yggdrassil path***"
      ],
      "metadata": {
        "id": "kYhs2fmkDRGa"
      }
    },
    {
      "cell_type": "code",
      "source": [
        "import easyocr\n",
        "import cv2\n",
        "import matplotlib.pyplot as plt\n",
        "import numpy as np\n",
        "\n",
        "map = cv2.imread(\"yyggdrasill_path.jpeg\")\n",
        "\n",
        "map_rgb=cv2.cvtColor(map, cv2.COLOR_BGR2RGB)\n",
        "\n",
        "kernel1 = np.ones((3,3), np.uint8)#5\n",
        "lower_white = np.array([232,232,232], dtype=np.uint8)\n",
        "upper_white = np.array([255,255,255], dtype=np.uint8)\n",
        "\n",
        "mask1 = cv2.inRange(map_rgb, lower_white, upper_white)\n",
        "\n",
        "white_map = cv2.bitwise_and(map_rgb, map_rgb, mask=mask1)\n",
        "dilated_map = cv2.dilate(white_map, kernel1, 1)\n",
        "\n",
        "height, width, _ = map_rgb.shape\n",
        "img1 = np.zeros((height, width),dtype=np.uint8)\n",
        "cv2.rectangle(img1, (500,250), (1100,500), 255,-1)\n",
        "masked_map = cv2.bitwise_and(dilated_map, dilated_map, mask=img1)\n",
        "\n",
        "reader = easyocr.Reader(['en'])\n",
        "lit_result = reader.readtext(masked_map)\n",
        "print(lit_result)\n",
        "\n",
        "\n",
        "plt.imshow(masked_map)\n",
        "plt.axis(\"off\")"
      ],
      "metadata": {
        "id": "Fm93_zWdDcUs"
      },
      "execution_count": null,
      "outputs": []
    },
    {
      "cell_type": "markdown",
      "source": [
        "***Spider Islands***"
      ],
      "metadata": {
        "id": "AAVHN0KoEBw7"
      }
    },
    {
      "cell_type": "code",
      "source": [
        "import easyocr\n",
        "import cv2\n",
        "import matplotlib.pyplot as plt\n",
        "import numpy as np\n",
        "\n",
        "map = cv2.imread(\"Spider_island.jpeg\")\n",
        "map_rgb=cv2.cvtColor(map, cv2.COLOR_BGR2RGB)\n",
        "\n",
        "kernel1 = np.ones((3,3), np.uint8)#5\n",
        "lower_white = np.array([232,240,235], dtype=np.uint8)\n",
        "upper_white = np.array([255,255,255], dtype=np.uint8)\n",
        "\n",
        "mask1 = cv2.inRange(map_rgb, lower_white, upper_white)\n",
        "\n",
        "white_map = cv2.bitwise_and(map_rgb, map_rgb, mask=mask1)\n",
        "dilated_map = cv2.dilate(white_map, kernel1, 1)\n",
        "\n",
        "height, width, _ = map_rgb.shape\n",
        "img1 = np.zeros((height, width),dtype=np.uint8)\n",
        "cv2.rectangle(img1, (500,250), (1100,500), 255,-1)\n",
        "masked_map = cv2.bitwise_and(dilated_map, dilated_map, mask=img1)\n",
        "\n",
        "reader = easyocr.Reader(['en'])\n",
        "lit_result = reader.readtext(masked_map)\n",
        "print(lit_result)\n",
        "\n",
        "plt.imshow(masked_map)\n",
        "plt.axis(\"off\")"
      ],
      "metadata": {
        "id": "Xc3TUBwLEHYH"
      },
      "execution_count": null,
      "outputs": []
    },
    {
      "cell_type": "markdown",
      "source": [
        "***Hell's Heaven***"
      ],
      "metadata": {
        "id": "r0vrclFVEJ09"
      }
    },
    {
      "cell_type": "code",
      "source": [
        "import easyocr\n",
        "import cv2\n",
        "import matplotlib.pyplot as plt\n",
        "import numpy as np\n",
        "\n",
        "map = cv2.imread(\"HellsHeaven.jpeg\")\n",
        "\n",
        "map_rgb=cv2.cvtColor(map, cv2.COLOR_BGR2RGB)\n",
        "\n",
        "kernel1 = np.ones((3,3), np.uint8)#5\n",
        "lower_white = np.array([225,225,225], dtype=np.uint8)\n",
        "upper_white = np.array([255,255,255], dtype=np.uint8)\n",
        "\n",
        "mask1 = cv2.inRange(map_rgb, lower_white, upper_white)\n",
        "\n",
        "white_map = cv2.bitwise_and(map_rgb, map_rgb, mask=mask1)\n",
        "dilated_map = cv2.dilate(white_map, kernel1, 1)\n",
        "\n",
        "height, width, _ = map_rgb.shape\n",
        "img1 = np.zeros((height, width),dtype=np.uint8)\n",
        "cv2.rectangle(img1, (500,250), (1100,500), 255,-1)\n",
        "masked_map = cv2.bitwise_and(dilated_map, dilated_map, mask=img1)\n",
        "\n",
        "reader = easyocr.Reader(['en'])\n",
        "lit_result = reader.readtext(masked_map)\n",
        "print(lit_result)\n",
        "\n",
        "plt.imshow(masked_map)\n",
        "plt.axis(\"off\")"
      ],
      "metadata": {
        "id": "mvAa3e6rEN7Y",
        "colab": {
          "base_uri": "https://localhost:8080/",
          "height": 211
        },
        "outputId": "e1dd738f-dd7d-4827-f623-7274a519a684"
      },
      "execution_count": null,
      "outputs": [
        {
          "output_type": "error",
          "ename": "error",
          "evalue": "OpenCV(4.12.0) /io/opencv/modules/imgproc/src/color.cpp:199: error: (-215:Assertion failed) !_src.empty() in function 'cvtColor'\n",
          "traceback": [
            "\u001b[0;31m---------------------------------------------------------------------------\u001b[0m",
            "\u001b[0;31merror\u001b[0m                                     Traceback (most recent call last)",
            "\u001b[0;32m/tmp/ipython-input-1503468518.py\u001b[0m in \u001b[0;36m<cell line: 0>\u001b[0;34m()\u001b[0m\n\u001b[1;32m      6\u001b[0m \u001b[0mmap\u001b[0m \u001b[0;34m=\u001b[0m \u001b[0mcv2\u001b[0m\u001b[0;34m.\u001b[0m\u001b[0mimread\u001b[0m\u001b[0;34m(\u001b[0m\u001b[0;34m\"HellsHeaven.jpeg\"\u001b[0m\u001b[0;34m)\u001b[0m\u001b[0;34m\u001b[0m\u001b[0;34m\u001b[0m\u001b[0m\n\u001b[1;32m      7\u001b[0m \u001b[0;34m\u001b[0m\u001b[0m\n\u001b[0;32m----> 8\u001b[0;31m \u001b[0mmap_rgb\u001b[0m\u001b[0;34m=\u001b[0m\u001b[0mcv2\u001b[0m\u001b[0;34m.\u001b[0m\u001b[0mcvtColor\u001b[0m\u001b[0;34m(\u001b[0m\u001b[0mmap\u001b[0m\u001b[0;34m,\u001b[0m \u001b[0mcv2\u001b[0m\u001b[0;34m.\u001b[0m\u001b[0mCOLOR_BGR2RGB\u001b[0m\u001b[0;34m)\u001b[0m\u001b[0;34m\u001b[0m\u001b[0;34m\u001b[0m\u001b[0m\n\u001b[0m\u001b[1;32m      9\u001b[0m \u001b[0;34m\u001b[0m\u001b[0m\n\u001b[1;32m     10\u001b[0m \u001b[0mkernel1\u001b[0m \u001b[0;34m=\u001b[0m \u001b[0mnp\u001b[0m\u001b[0;34m.\u001b[0m\u001b[0mones\u001b[0m\u001b[0;34m(\u001b[0m\u001b[0;34m(\u001b[0m\u001b[0;36m3\u001b[0m\u001b[0;34m,\u001b[0m\u001b[0;36m3\u001b[0m\u001b[0;34m)\u001b[0m\u001b[0;34m,\u001b[0m \u001b[0mnp\u001b[0m\u001b[0;34m.\u001b[0m\u001b[0muint8\u001b[0m\u001b[0;34m)\u001b[0m\u001b[0;31m#5\u001b[0m\u001b[0;34m\u001b[0m\u001b[0;34m\u001b[0m\u001b[0m\n",
            "\u001b[0;31merror\u001b[0m: OpenCV(4.12.0) /io/opencv/modules/imgproc/src/color.cpp:199: error: (-215:Assertion failed) !_src.empty() in function 'cvtColor'\n"
          ]
        }
      ]
    }
  ]
}